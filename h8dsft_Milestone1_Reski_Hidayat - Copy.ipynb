{
 "cells": [
  {
   "cell_type": "markdown",
   "metadata": {},
   "source": [
    "# Project 1\n",
    "\n",
    "```\n",
    "\n",
    "Program ini dibuat untuk menganalisa, mengidentifikasi, menjabarkan dan memvisualisasikan sebuah permasalahan\n",
    "\n",
    "```"
   ]
  },
  {
   "cell_type": "markdown",
   "metadata": {},
   "source": [
    "# Tableau Public Link"
   ]
  },
  {
   "cell_type": "markdown",
   "metadata": {},
   "source": [
    "https://public.tableau.com/views/h8dsft_Milestone1_Reski_Hidayat/ANALISAREKOMENDASIPENUMPANG?:language=en-US&publish=yes&:sid=&:display_count=n&:origin=viz_share_link"
   ]
  },
  {
   "cell_type": "markdown",
   "metadata": {},
   "source": [
    "# Case Study - Passanger Recommendation\n",
    "\n",
    "#### Kamu adalah seorang seorang Data Analyst di maskapai perusahaan internasional menyadari kalau rating penumpang mempengaruhi rekomendasi mereka, sasaran kamu adalah meningkatkan faktor kepuasan pelanggan sehingga meningkatkan customer baru berdasarkan rekomendasi penumpang."
   ]
  },
  {
   "cell_type": "markdown",
   "metadata": {},
   "source": [
    "# Identifikasi Masalah"
   ]
  },
  {
   "cell_type": "markdown",
   "metadata": {},
   "source": [
    "### Defining the Problem Statements\n",
    "\n",
    "Using SMART framework:\n",
    "\n",
    "1. **Specific**: Meningkatkan kualitas pelayanan saat penerbangan.\n",
    "\n",
    "2. **Measurable**: Mencapai tingkat rekomendasi penumpang sebesar 10%.\n",
    "\n",
    "3. **Achievable**: Memberikan service pengalaman terbaik kepada penumpang.\n",
    "\n",
    "4. **Relevant**: Mendatangkan penumpang baru untuk meningkatkan pendapatan.\n",
    "\n",
    "5. **Time-Bound**: Dapat dicapai di kuartal berikutnya.\n",
    "\n",
    "`Problem statement`:\n",
    "\n",
    "Tujuannya adalah meningkatkan rekomendasi penumpang sebesar 10% pada kuartal berikutnya. Hal ini akan dapat dicapai dengan meningkatkan service layanan terbaik yang pada akhirnya akan mendorong peningkatan pendapatan yg lebih tinggi."
   ]
  },
  {
   "cell_type": "markdown",
   "metadata": {},
   "source": [
    "### Breaking Down the Problem"
   ]
  },
  {
   "cell_type": "markdown",
   "metadata": {},
   "source": [
    "Main Problem: `Meningkatkan tingkat rekomendasi penumpang`\n",
    "\n",
    "Untuk memudahkan analisis dalam pemecahan masalah, kita perlu memahami secara detail tentang masalah tersebut. Untuk melakukannya, kita menggunakan kerangka `5W+1H` untuk menemukan akar masalah.\n",
    "\n",
    "The `5W+1H`s:\n",
    "- Apa faktor yg meningkatkan rekomendasi penumpang?\n",
    "- Siapa penumpang terbanyak yg memberikan rekomendasi?\n",
    "- Bagaimana cara meningkatkan service untuk meningkatkan rekomendasi penumpang?\n",
    "- Kenapa meningkatkan rekomendasi penumpang penting bagi perusahaan?\n",
    "\n",
    "Kita menggunakan 4 pertanyaan diatas untuk membantu analisa."
   ]
  },
  {
   "cell_type": "markdown",
   "metadata": {},
   "source": [
    "# Data Loading"
   ]
  },
  {
   "cell_type": "markdown",
   "metadata": {},
   "source": [
    "* Sumber diambil dari Kaggle.com dengan Judul Dataset `Airlines Reviews and Rating`\n",
    "* Link : https://www.kaggle.com/datasets/anandshaw2001/airlines-reviews-and-rating"
   ]
  },
  {
   "cell_type": "markdown",
   "metadata": {},
   "source": [
    "## Import Library"
   ]
  },
  {
   "cell_type": "code",
   "execution_count": 88,
   "metadata": {},
   "outputs": [
    {
     "name": "stderr",
     "output_type": "stream",
     "text": [
      "C:\\Users\\reski\\AppData\\Local\\Temp\\ipykernel_16360\\516702868.py:9: DeprecationWarning: Importing display from IPython.core.display is deprecated since IPython 7.14, please import from IPython display\n",
      "  from IPython.core.display import display, HTML\n"
     ]
    }
   ],
   "source": [
    "import pandas as pd\n",
    "import psycopg2\n",
    "from psycopg2 import sql\n",
    "from scipy import stats\n",
    "import requests\n",
    "import numpy as np\n",
    "import matplotlib.pyplot as plt\n",
    "import seaborn as sns\n",
    "from IPython.core.display import display, HTML"
   ]
  },
  {
   "cell_type": "markdown",
   "metadata": {},
   "source": [
    "## Loading Data Menggunakan PostGresSQL"
   ]
  },
  {
   "cell_type": "code",
   "execution_count": 89,
   "metadata": {},
   "outputs": [],
   "source": [
    "db_user = \"postgres\"\n",
    "db_password = \"admin\"\n",
    "db_host = \"localhost\"\n",
    "db_port = \"5432\"\n",
    "\n",
    "# Membuat koneksi ke database tanpa memilih database\n",
    "connection = psycopg2.connect(\n",
    "    user=db_user,\n",
    "    password=db_password,\n",
    "    host=db_host,\n",
    "    port=db_port\n",
    ")\n",
    "\n",
    "cursor = connection.cursor()\n",
    "\n",
    "# Mengubah koneksi untuk memilih database tertentu\n",
    "connection = psycopg2.connect(\n",
    "    user=db_user,\n",
    "    password=db_password,\n",
    "    host=db_host,\n",
    "    port=db_port,\n",
    "    database=\"db_airlines\"\n",
    ")"
   ]
  },
  {
   "cell_type": "markdown",
   "metadata": {},
   "source": [
    "## Menampilkan Tipe Dataset"
   ]
  },
  {
   "cell_type": "code",
   "execution_count": 90,
   "metadata": {},
   "outputs": [
    {
     "name": "stderr",
     "output_type": "stream",
     "text": [
      "C:\\Users\\reski\\AppData\\Local\\Temp\\ipykernel_16360\\3104828243.py:2: UserWarning: pandas only supports SQLAlchemy connectable (engine/connection) or database string URI or sqlite3 DBAPI2 connection. Other DBAPI2 objects are not tested. Please consider using SQLAlchemy.\n",
      "  df = pd.read_sql_query(data, connection)\n"
     ]
    },
    {
     "name": "stdout",
     "output_type": "stream",
     "text": [
      "<class 'pandas.core.frame.DataFrame'>\n",
      "RangeIndex: 3290 entries, 0 to 3289\n",
      "Data columns (total 15 columns):\n",
      " #   Column                  Non-Null Count  Dtype  \n",
      "---  ------                  --------------  -----  \n",
      " 0   aircraft_type           1896 non-null   object \n",
      " 1   users_reviews           3290 non-null   object \n",
      " 2   country                 3289 non-null   object \n",
      " 3   type_of_travellers      2887 non-null   object \n",
      " 4   route                   2883 non-null   object \n",
      " 5   seat_types              3287 non-null   object \n",
      " 6   seat_comfort            3176 non-null   float64\n",
      " 7   date_flown              2880 non-null   object \n",
      " 8   cabin_staff_service     3165 non-null   float64\n",
      " 9   ground_service          2812 non-null   float64\n",
      " 10  food_beverages          2911 non-null   float64\n",
      " 11  wifi_connectivity       592 non-null    float64\n",
      " 12  inflight_entertainment  2171 non-null   float64\n",
      " 13  value_for_money         3290 non-null   int64  \n",
      " 14  recommended             3290 non-null   object \n",
      "dtypes: float64(6), int64(1), object(8)\n",
      "memory usage: 385.7+ KB\n"
     ]
    }
   ],
   "source": [
    "# Query SQL\n",
    "data = '''SELECT * FROM airlines;'''\n",
    "\n",
    " # Menampilkan informasi DataFrame\n",
    "df = pd.read_sql_query(data, connection)\n",
    "\n",
    "df.info()"
   ]
  },
  {
   "cell_type": "markdown",
   "metadata": {},
   "source": [
    "## Menampilkan hasil loading data dari PostGresSQL"
   ]
  },
  {
   "cell_type": "code",
   "execution_count": 91,
   "metadata": {},
   "outputs": [
    {
     "data": {
      "text/html": [
       "<div>\n",
       "<style scoped>\n",
       "    .dataframe tbody tr th:only-of-type {\n",
       "        vertical-align: middle;\n",
       "    }\n",
       "\n",
       "    .dataframe tbody tr th {\n",
       "        vertical-align: top;\n",
       "    }\n",
       "\n",
       "    .dataframe thead th {\n",
       "        text-align: right;\n",
       "    }\n",
       "</style>\n",
       "<table border=\"1\" class=\"dataframe\">\n",
       "  <thead>\n",
       "    <tr style=\"text-align: right;\">\n",
       "      <th></th>\n",
       "      <th>aircraft_type</th>\n",
       "      <th>users_reviews</th>\n",
       "      <th>country</th>\n",
       "      <th>type_of_travellers</th>\n",
       "      <th>route</th>\n",
       "      <th>seat_types</th>\n",
       "      <th>seat_comfort</th>\n",
       "      <th>date_flown</th>\n",
       "      <th>cabin_staff_service</th>\n",
       "      <th>ground_service</th>\n",
       "      <th>food_beverages</th>\n",
       "      <th>wifi_connectivity</th>\n",
       "      <th>inflight_entertainment</th>\n",
       "      <th>value_for_money</th>\n",
       "      <th>recommended</th>\n",
       "    </tr>\n",
       "  </thead>\n",
       "  <tbody>\n",
       "    <tr>\n",
       "      <th>0</th>\n",
       "      <td>None</td>\n",
       "      <td>✅Trip Verified|  Cancelled our flight last-min...</td>\n",
       "      <td>United Kingdom</td>\n",
       "      <td>Couple Leisure</td>\n",
       "      <td>London Heathrow to Tokyo</td>\n",
       "      <td>Economy Class</td>\n",
       "      <td>1.0</td>\n",
       "      <td>Sep-23</td>\n",
       "      <td>1.0</td>\n",
       "      <td>2.0</td>\n",
       "      <td>1.0</td>\n",
       "      <td>NaN</td>\n",
       "      <td>3.0</td>\n",
       "      <td>1</td>\n",
       "      <td>no</td>\n",
       "    </tr>\n",
       "    <tr>\n",
       "      <th>1</th>\n",
       "      <td>None</td>\n",
       "      <td>✅Trip Verified| I had a flight from Miami, Flo...</td>\n",
       "      <td>United States</td>\n",
       "      <td>Solo Leisure</td>\n",
       "      <td>Miami to Dublin via London Heathrow</td>\n",
       "      <td>Business Class</td>\n",
       "      <td>1.0</td>\n",
       "      <td>Aug-23</td>\n",
       "      <td>3.0</td>\n",
       "      <td>1.0</td>\n",
       "      <td>2.0</td>\n",
       "      <td>1.0</td>\n",
       "      <td>1.0</td>\n",
       "      <td>1</td>\n",
       "      <td>no</td>\n",
       "    </tr>\n",
       "    <tr>\n",
       "      <th>2</th>\n",
       "      <td>None</td>\n",
       "      <td>✅Trip Verified|  We started our day with BA in...</td>\n",
       "      <td>United States</td>\n",
       "      <td>Business</td>\n",
       "      <td>Prague to San Francisco via London</td>\n",
       "      <td>Business Class</td>\n",
       "      <td>1.0</td>\n",
       "      <td>Sep-23</td>\n",
       "      <td>3.0</td>\n",
       "      <td>1.0</td>\n",
       "      <td>3.0</td>\n",
       "      <td>1.0</td>\n",
       "      <td>NaN</td>\n",
       "      <td>1</td>\n",
       "      <td>no</td>\n",
       "    </tr>\n",
       "    <tr>\n",
       "      <th>3</th>\n",
       "      <td>None</td>\n",
       "      <td>✅Trip Verified|  I fly British Airways weekly ...</td>\n",
       "      <td>United Kingdom</td>\n",
       "      <td>Business</td>\n",
       "      <td>London to Glasgow</td>\n",
       "      <td>Economy Class</td>\n",
       "      <td>1.0</td>\n",
       "      <td>Sep-23</td>\n",
       "      <td>1.0</td>\n",
       "      <td>1.0</td>\n",
       "      <td>1.0</td>\n",
       "      <td>1.0</td>\n",
       "      <td>1.0</td>\n",
       "      <td>1</td>\n",
       "      <td>no</td>\n",
       "    </tr>\n",
       "    <tr>\n",
       "      <th>4</th>\n",
       "      <td>None</td>\n",
       "      <td>Not Verified|  Everything was ok until our con...</td>\n",
       "      <td>France</td>\n",
       "      <td>Family Leisure</td>\n",
       "      <td>San Diego to Marseille via London</td>\n",
       "      <td>Economy Class</td>\n",
       "      <td>3.0</td>\n",
       "      <td>Aug-23</td>\n",
       "      <td>2.0</td>\n",
       "      <td>1.0</td>\n",
       "      <td>3.0</td>\n",
       "      <td>1.0</td>\n",
       "      <td>3.0</td>\n",
       "      <td>3</td>\n",
       "      <td>no</td>\n",
       "    </tr>\n",
       "  </tbody>\n",
       "</table>\n",
       "</div>"
      ],
      "text/plain": [
       "  aircraft_type                                      users_reviews  \\\n",
       "0          None  ✅Trip Verified|  Cancelled our flight last-min...   \n",
       "1          None  ✅Trip Verified| I had a flight from Miami, Flo...   \n",
       "2          None  ✅Trip Verified|  We started our day with BA in...   \n",
       "3          None  ✅Trip Verified|  I fly British Airways weekly ...   \n",
       "4          None  Not Verified|  Everything was ok until our con...   \n",
       "\n",
       "          country type_of_travellers                                route  \\\n",
       "0  United Kingdom     Couple Leisure             London Heathrow to Tokyo   \n",
       "1   United States       Solo Leisure  Miami to Dublin via London Heathrow   \n",
       "2   United States           Business   Prague to San Francisco via London   \n",
       "3  United Kingdom           Business                    London to Glasgow   \n",
       "4          France     Family Leisure   San Diego to Marseille via London    \n",
       "\n",
       "       seat_types  seat_comfort date_flown  cabin_staff_service  \\\n",
       "0   Economy Class           1.0     Sep-23                  1.0   \n",
       "1  Business Class           1.0     Aug-23                  3.0   \n",
       "2  Business Class           1.0     Sep-23                  3.0   \n",
       "3   Economy Class           1.0     Sep-23                  1.0   \n",
       "4   Economy Class           3.0     Aug-23                  2.0   \n",
       "\n",
       "   ground_service  food_beverages  wifi_connectivity  inflight_entertainment  \\\n",
       "0             2.0             1.0                NaN                     3.0   \n",
       "1             1.0             2.0                1.0                     1.0   \n",
       "2             1.0             3.0                1.0                     NaN   \n",
       "3             1.0             1.0                1.0                     1.0   \n",
       "4             1.0             3.0                1.0                     3.0   \n",
       "\n",
       "   value_for_money recommended  \n",
       "0                1          no  \n",
       "1                1          no  \n",
       "2                1          no  \n",
       "3                1          no  \n",
       "4                3          no  "
      ]
     },
     "execution_count": 91,
     "metadata": {},
     "output_type": "execute_result"
    }
   ],
   "source": [
    "df.head()"
   ]
  },
  {
   "cell_type": "markdown",
   "metadata": {},
   "source": [
    "### Mengidentifikasi Missing Value dari DataFrame"
   ]
  },
  {
   "cell_type": "code",
   "execution_count": 92,
   "metadata": {},
   "outputs": [
    {
     "data": {
      "text/plain": [
       "aircraft_type             1394\n",
       "users_reviews                0\n",
       "country                      1\n",
       "type_of_travellers         403\n",
       "route                      407\n",
       "seat_types                   3\n",
       "seat_comfort               114\n",
       "date_flown                 410\n",
       "cabin_staff_service        125\n",
       "ground_service             478\n",
       "food_beverages             379\n",
       "wifi_connectivity         2698\n",
       "inflight_entertainment    1119\n",
       "value_for_money              0\n",
       "recommended                  0\n",
       "dtype: int64"
      ]
     },
     "execution_count": 92,
     "metadata": {},
     "output_type": "execute_result"
    }
   ],
   "source": [
    "df.isnull().sum()"
   ]
  },
  {
   "cell_type": "markdown",
   "metadata": {},
   "source": [
    "### Mengidentifikasi Tipe Data"
   ]
  },
  {
   "cell_type": "code",
   "execution_count": 93,
   "metadata": {},
   "outputs": [
    {
     "name": "stdout",
     "output_type": "stream",
     "text": [
      "<class 'pandas.core.frame.DataFrame'>\n",
      "RangeIndex: 3290 entries, 0 to 3289\n",
      "Data columns (total 15 columns):\n",
      " #   Column                  Non-Null Count  Dtype  \n",
      "---  ------                  --------------  -----  \n",
      " 0   aircraft_type           1896 non-null   object \n",
      " 1   users_reviews           3290 non-null   object \n",
      " 2   country                 3289 non-null   object \n",
      " 3   type_of_travellers      2887 non-null   object \n",
      " 4   route                   2883 non-null   object \n",
      " 5   seat_types              3287 non-null   object \n",
      " 6   seat_comfort            3176 non-null   float64\n",
      " 7   date_flown              2880 non-null   object \n",
      " 8   cabin_staff_service     3165 non-null   float64\n",
      " 9   ground_service          2812 non-null   float64\n",
      " 10  food_beverages          2911 non-null   float64\n",
      " 11  wifi_connectivity       592 non-null    float64\n",
      " 12  inflight_entertainment  2171 non-null   float64\n",
      " 13  value_for_money         3290 non-null   int64  \n",
      " 14  recommended             3290 non-null   object \n",
      "dtypes: float64(6), int64(1), object(8)\n",
      "memory usage: 385.7+ KB\n"
     ]
    }
   ],
   "source": [
    "df.info()"
   ]
  },
  {
   "cell_type": "code",
   "execution_count": 94,
   "metadata": {},
   "outputs": [
    {
     "name": "stdout",
     "output_type": "stream",
     "text": [
      "Total Jumlah Missing Value Setiap Kolom: 7531\n"
     ]
    }
   ],
   "source": [
    "print(\"Total Jumlah Missing Value Setiap Kolom:\", df.isnull().sum().sum())"
   ]
  },
  {
   "cell_type": "markdown",
   "metadata": {},
   "source": [
    "Terdapat 7531 data missing Value di dalam dataset"
   ]
  },
  {
   "cell_type": "markdown",
   "metadata": {},
   "source": [
    "# Data Cleaning"
   ]
  },
  {
   "cell_type": "markdown",
   "metadata": {},
   "source": [
    "### Data Characteristic"
   ]
  },
  {
   "cell_type": "markdown",
   "metadata": {},
   "source": [
    "#### Proses Pembersihan Missing Value pada kolom `aircraft_type`"
   ]
  },
  {
   "cell_type": "code",
   "execution_count": 95,
   "metadata": {},
   "outputs": [
    {
     "name": "stdout",
     "output_type": "stream",
     "text": [
      "<class 'pandas.core.frame.DataFrame'>\n",
      "Index: 1896 entries, 5 to 2895\n",
      "Data columns (total 15 columns):\n",
      " #   Column                  Non-Null Count  Dtype  \n",
      "---  ------                  --------------  -----  \n",
      " 0   aircraft_type           1896 non-null   object \n",
      " 1   users_reviews           1896 non-null   object \n",
      " 2   country                 1896 non-null   object \n",
      " 3   type_of_travellers      1895 non-null   object \n",
      " 4   route                   1895 non-null   object \n",
      " 5   seat_types              1896 non-null   object \n",
      " 6   seat_comfort            1883 non-null   float64\n",
      " 7   date_flown              1889 non-null   object \n",
      " 8   cabin_staff_service     1883 non-null   float64\n",
      " 9   ground_service          1882 non-null   float64\n",
      " 10  food_beverages          1782 non-null   float64\n",
      " 11  wifi_connectivity       362 non-null    float64\n",
      " 12  inflight_entertainment  1267 non-null   float64\n",
      " 13  value_for_money         1896 non-null   int64  \n",
      " 14  recommended             1896 non-null   object \n",
      "dtypes: float64(6), int64(1), object(8)\n",
      "memory usage: 237.0+ KB\n"
     ]
    }
   ],
   "source": [
    "dfc = df.dropna(subset='aircraft_type', axis=0)\n",
    "dfc.info()"
   ]
  },
  {
   "cell_type": "markdown",
   "metadata": {},
   "source": [
    "### Proses Drop Kolom yg Tidak Digunakan"
   ]
  },
  {
   "cell_type": "code",
   "execution_count": 96,
   "metadata": {},
   "outputs": [],
   "source": [
    "dfc = dfc.drop(columns=['users_reviews', 'date_flown'])"
   ]
  },
  {
   "cell_type": "markdown",
   "metadata": {},
   "source": [
    "### Menghitung sisa Missing Value"
   ]
  },
  {
   "cell_type": "code",
   "execution_count": 97,
   "metadata": {},
   "outputs": [
    {
     "data": {
      "text/plain": [
       "aircraft_type                0\n",
       "country                      0\n",
       "type_of_travellers           1\n",
       "route                        1\n",
       "seat_types                   0\n",
       "seat_comfort                13\n",
       "cabin_staff_service         13\n",
       "ground_service              14\n",
       "food_beverages             114\n",
       "wifi_connectivity         1534\n",
       "inflight_entertainment     629\n",
       "value_for_money              0\n",
       "recommended                  0\n",
       "dtype: int64"
      ]
     },
     "execution_count": 97,
     "metadata": {},
     "output_type": "execute_result"
    }
   ],
   "source": [
    "dfc.isnull().sum()"
   ]
  },
  {
   "cell_type": "markdown",
   "metadata": {},
   "source": [
    "Setelah itu kita mencoba menganalisa ada berapa banyak Missing Value dalam dataset setelah 2 tahap proses cleaning di awal"
   ]
  },
  {
   "cell_type": "markdown",
   "metadata": {},
   "source": [
    "### Menghandle Sisa Missing Value"
   ]
  },
  {
   "cell_type": "code",
   "execution_count": 98,
   "metadata": {},
   "outputs": [
    {
     "data": {
      "text/plain": [
       "aircraft_type             0\n",
       "country                   0\n",
       "type_of_travellers        1\n",
       "route                     1\n",
       "seat_types                0\n",
       "seat_comfort              0\n",
       "cabin_staff_service       0\n",
       "ground_service            0\n",
       "food_beverages            0\n",
       "wifi_connectivity         0\n",
       "inflight_entertainment    0\n",
       "value_for_money           0\n",
       "recommended               0\n",
       "dtype: int64"
      ]
     },
     "execution_count": 98,
     "metadata": {},
     "output_type": "execute_result"
    }
   ],
   "source": [
    "dfc['seat_comfort']=dfc['seat_comfort'].replace(np.nan, 0)\n",
    "dfc['cabin_staff_service']=dfc['cabin_staff_service'].replace(np.nan, 0)\n",
    "dfc['ground_service']=dfc['ground_service'].replace(np.nan, 0)\n",
    "dfc['food_beverages']=dfc['food_beverages'].replace(np.nan, 0)\n",
    "dfc['wifi_connectivity']=dfc['wifi_connectivity'].replace(np.nan, 0)\n",
    "dfc['inflight_entertainment']=dfc['inflight_entertainment'].replace(np.nan, 0)\n",
    "dfc.isnull().sum()"
   ]
  },
  {
   "cell_type": "markdown",
   "metadata": {},
   "source": [
    "Karena kita akan menggunakan rating dari Kenyamanan Seat, Cabin Staff Service, Ground Service, Kualitas Makanan, Kualitas WiFi, Hiburan In Flight jadi kita ubah Missing Value sebagai 0 dengan asumsi pelanggan tidak mengisi rating"
   ]
  },
  {
   "cell_type": "markdown",
   "metadata": {},
   "source": [
    "### Menghapus sisa Missing Value"
   ]
  },
  {
   "cell_type": "code",
   "execution_count": 99,
   "metadata": {},
   "outputs": [],
   "source": [
    "dfc = dfc.dropna()"
   ]
  },
  {
   "cell_type": "markdown",
   "metadata": {},
   "source": [
    "Setelah itu kita menghandle sisa missing value dengan melakukan drop data"
   ]
  },
  {
   "cell_type": "markdown",
   "metadata": {},
   "source": [
    "### Mengganti sisa tipe data `value_for_money` menjadi float agar seragam dengan kolom dataset yg lain"
   ]
  },
  {
   "cell_type": "code",
   "execution_count": 100,
   "metadata": {},
   "outputs": [],
   "source": [
    "dfc['value_for_money'] = dfc['value_for_money'].astype(float)"
   ]
  },
  {
   "cell_type": "markdown",
   "metadata": {},
   "source": [
    "Untuk menyeragamkan dengan yg lain, tipe data `Value for Money` yg sebelumnya `Integer` diubah menjadi `Float` agar bisa kita olah"
   ]
  },
  {
   "cell_type": "markdown",
   "metadata": {},
   "source": [
    "### Menampilkan Hasil dari Proses Data Cleaning"
   ]
  },
  {
   "cell_type": "code",
   "execution_count": 101,
   "metadata": {},
   "outputs": [
    {
     "data": {
      "text/html": [
       "<div>\n",
       "<style scoped>\n",
       "    .dataframe tbody tr th:only-of-type {\n",
       "        vertical-align: middle;\n",
       "    }\n",
       "\n",
       "    .dataframe tbody tr th {\n",
       "        vertical-align: top;\n",
       "    }\n",
       "\n",
       "    .dataframe thead th {\n",
       "        text-align: right;\n",
       "    }\n",
       "</style>\n",
       "<table border=\"1\" class=\"dataframe\">\n",
       "  <thead>\n",
       "    <tr style=\"text-align: right;\">\n",
       "      <th></th>\n",
       "      <th>aircraft_type</th>\n",
       "      <th>country</th>\n",
       "      <th>type_of_travellers</th>\n",
       "      <th>route</th>\n",
       "      <th>seat_types</th>\n",
       "      <th>seat_comfort</th>\n",
       "      <th>cabin_staff_service</th>\n",
       "      <th>ground_service</th>\n",
       "      <th>food_beverages</th>\n",
       "      <th>wifi_connectivity</th>\n",
       "      <th>inflight_entertainment</th>\n",
       "      <th>value_for_money</th>\n",
       "      <th>recommended</th>\n",
       "    </tr>\n",
       "  </thead>\n",
       "  <tbody>\n",
       "    <tr>\n",
       "      <th>5</th>\n",
       "      <td>A350</td>\n",
       "      <td>Germany</td>\n",
       "      <td>Business</td>\n",
       "      <td>Hamburg to Las Vegas via London</td>\n",
       "      <td>Premium Economy</td>\n",
       "      <td>2.0</td>\n",
       "      <td>2.0</td>\n",
       "      <td>1.0</td>\n",
       "      <td>2.0</td>\n",
       "      <td>0.0</td>\n",
       "      <td>3.0</td>\n",
       "      <td>1.0</td>\n",
       "      <td>no</td>\n",
       "    </tr>\n",
       "    <tr>\n",
       "      <th>8</th>\n",
       "      <td>A320</td>\n",
       "      <td>United Kingdom</td>\n",
       "      <td>Couple Leisure</td>\n",
       "      <td>London Heathrow to Porto</td>\n",
       "      <td>Business Class</td>\n",
       "      <td>3.0</td>\n",
       "      <td>4.0</td>\n",
       "      <td>4.0</td>\n",
       "      <td>3.0</td>\n",
       "      <td>0.0</td>\n",
       "      <td>0.0</td>\n",
       "      <td>4.0</td>\n",
       "      <td>yes</td>\n",
       "    </tr>\n",
       "    <tr>\n",
       "      <th>12</th>\n",
       "      <td>Boeing 787</td>\n",
       "      <td>United Kingdom</td>\n",
       "      <td>Couple Leisure</td>\n",
       "      <td>London to Santiago</td>\n",
       "      <td>Business Class</td>\n",
       "      <td>3.0</td>\n",
       "      <td>5.0</td>\n",
       "      <td>2.0</td>\n",
       "      <td>4.0</td>\n",
       "      <td>0.0</td>\n",
       "      <td>0.0</td>\n",
       "      <td>5.0</td>\n",
       "      <td>yes</td>\n",
       "    </tr>\n",
       "    <tr>\n",
       "      <th>13</th>\n",
       "      <td>A320</td>\n",
       "      <td>United Kingdom</td>\n",
       "      <td>Couple Leisure</td>\n",
       "      <td>London Heathrow to Faro</td>\n",
       "      <td>Business Class</td>\n",
       "      <td>0.0</td>\n",
       "      <td>0.0</td>\n",
       "      <td>1.0</td>\n",
       "      <td>0.0</td>\n",
       "      <td>0.0</td>\n",
       "      <td>0.0</td>\n",
       "      <td>1.0</td>\n",
       "      <td>no</td>\n",
       "    </tr>\n",
       "    <tr>\n",
       "      <th>15</th>\n",
       "      <td>A320</td>\n",
       "      <td>Germany</td>\n",
       "      <td>Couple Leisure</td>\n",
       "      <td>London to Munich</td>\n",
       "      <td>Economy Class</td>\n",
       "      <td>1.0</td>\n",
       "      <td>3.0</td>\n",
       "      <td>1.0</td>\n",
       "      <td>1.0</td>\n",
       "      <td>1.0</td>\n",
       "      <td>1.0</td>\n",
       "      <td>1.0</td>\n",
       "      <td>no</td>\n",
       "    </tr>\n",
       "    <tr>\n",
       "      <th>...</th>\n",
       "      <td>...</td>\n",
       "      <td>...</td>\n",
       "      <td>...</td>\n",
       "      <td>...</td>\n",
       "      <td>...</td>\n",
       "      <td>...</td>\n",
       "      <td>...</td>\n",
       "      <td>...</td>\n",
       "      <td>...</td>\n",
       "      <td>...</td>\n",
       "      <td>...</td>\n",
       "      <td>...</td>\n",
       "      <td>...</td>\n",
       "    </tr>\n",
       "    <tr>\n",
       "      <th>2886</th>\n",
       "      <td>A319</td>\n",
       "      <td>United Kingdom</td>\n",
       "      <td>Business</td>\n",
       "      <td>FRA-LHR</td>\n",
       "      <td>Business Class</td>\n",
       "      <td>5.0</td>\n",
       "      <td>2.0</td>\n",
       "      <td>0.0</td>\n",
       "      <td>2.0</td>\n",
       "      <td>0.0</td>\n",
       "      <td>1.0</td>\n",
       "      <td>1.0</td>\n",
       "      <td>no</td>\n",
       "    </tr>\n",
       "    <tr>\n",
       "      <th>2887</th>\n",
       "      <td>Boeing 777</td>\n",
       "      <td>Sweden</td>\n",
       "      <td>Couple Leisure</td>\n",
       "      <td>Gatwick to Barbados</td>\n",
       "      <td>Business Class</td>\n",
       "      <td>3.0</td>\n",
       "      <td>4.0</td>\n",
       "      <td>0.0</td>\n",
       "      <td>3.0</td>\n",
       "      <td>0.0</td>\n",
       "      <td>4.0</td>\n",
       "      <td>3.0</td>\n",
       "      <td>no</td>\n",
       "    </tr>\n",
       "    <tr>\n",
       "      <th>2888</th>\n",
       "      <td>Airbus 319</td>\n",
       "      <td>Ukraine</td>\n",
       "      <td>Business</td>\n",
       "      <td>Kiev to London</td>\n",
       "      <td>Business Class</td>\n",
       "      <td>3.0</td>\n",
       "      <td>5.0</td>\n",
       "      <td>0.0</td>\n",
       "      <td>0.0</td>\n",
       "      <td>1.0</td>\n",
       "      <td>4.0</td>\n",
       "      <td>4.0</td>\n",
       "      <td>yes</td>\n",
       "    </tr>\n",
       "    <tr>\n",
       "      <th>2891</th>\n",
       "      <td>Boeing 747-400</td>\n",
       "      <td>United Kingdom</td>\n",
       "      <td>Business</td>\n",
       "      <td>London-Vancouver return</td>\n",
       "      <td>Business Class</td>\n",
       "      <td>4.0</td>\n",
       "      <td>5.0</td>\n",
       "      <td>0.0</td>\n",
       "      <td>4.0</td>\n",
       "      <td>0.0</td>\n",
       "      <td>3.0</td>\n",
       "      <td>5.0</td>\n",
       "      <td>yes</td>\n",
       "    </tr>\n",
       "    <tr>\n",
       "      <th>2892</th>\n",
       "      <td>Boeing 747-400</td>\n",
       "      <td>United Kingdom</td>\n",
       "      <td>Business</td>\n",
       "      <td>LHR-ORD</td>\n",
       "      <td>Business Class</td>\n",
       "      <td>4.0</td>\n",
       "      <td>2.0</td>\n",
       "      <td>0.0</td>\n",
       "      <td>3.0</td>\n",
       "      <td>0.0</td>\n",
       "      <td>4.0</td>\n",
       "      <td>3.0</td>\n",
       "      <td>yes</td>\n",
       "    </tr>\n",
       "  </tbody>\n",
       "</table>\n",
       "<p>1894 rows × 13 columns</p>\n",
       "</div>"
      ],
      "text/plain": [
       "       aircraft_type         country type_of_travellers  \\\n",
       "5               A350         Germany           Business   \n",
       "8               A320  United Kingdom     Couple Leisure   \n",
       "12        Boeing 787  United Kingdom     Couple Leisure   \n",
       "13              A320  United Kingdom     Couple Leisure   \n",
       "15              A320         Germany     Couple Leisure   \n",
       "...              ...             ...                ...   \n",
       "2886            A319  United Kingdom           Business   \n",
       "2887      Boeing 777          Sweden     Couple Leisure   \n",
       "2888      Airbus 319         Ukraine           Business   \n",
       "2891  Boeing 747-400  United Kingdom           Business   \n",
       "2892  Boeing 747-400  United Kingdom           Business   \n",
       "\n",
       "                                route       seat_types  seat_comfort  \\\n",
       "5     Hamburg to Las Vegas via London  Premium Economy           2.0   \n",
       "8            London Heathrow to Porto   Business Class           3.0   \n",
       "12                 London to Santiago   Business Class           3.0   \n",
       "13            London Heathrow to Faro   Business Class           0.0   \n",
       "15                   London to Munich    Economy Class           1.0   \n",
       "...                               ...              ...           ...   \n",
       "2886                         FRA-LHR    Business Class           5.0   \n",
       "2887              Gatwick to Barbados   Business Class           3.0   \n",
       "2888                   Kiev to London   Business Class           3.0   \n",
       "2891          London-Vancouver return   Business Class           4.0   \n",
       "2892                          LHR-ORD   Business Class           4.0   \n",
       "\n",
       "      cabin_staff_service  ground_service  food_beverages  wifi_connectivity  \\\n",
       "5                     2.0             1.0             2.0                0.0   \n",
       "8                     4.0             4.0             3.0                0.0   \n",
       "12                    5.0             2.0             4.0                0.0   \n",
       "13                    0.0             1.0             0.0                0.0   \n",
       "15                    3.0             1.0             1.0                1.0   \n",
       "...                   ...             ...             ...                ...   \n",
       "2886                  2.0             0.0             2.0                0.0   \n",
       "2887                  4.0             0.0             3.0                0.0   \n",
       "2888                  5.0             0.0             0.0                1.0   \n",
       "2891                  5.0             0.0             4.0                0.0   \n",
       "2892                  2.0             0.0             3.0                0.0   \n",
       "\n",
       "      inflight_entertainment  value_for_money recommended  \n",
       "5                        3.0              1.0          no  \n",
       "8                        0.0              4.0         yes  \n",
       "12                       0.0              5.0         yes  \n",
       "13                       0.0              1.0          no  \n",
       "15                       1.0              1.0          no  \n",
       "...                      ...              ...         ...  \n",
       "2886                     1.0              1.0          no  \n",
       "2887                     4.0              3.0          no  \n",
       "2888                     4.0              4.0         yes  \n",
       "2891                     3.0              5.0         yes  \n",
       "2892                     4.0              3.0         yes  \n",
       "\n",
       "[1894 rows x 13 columns]"
      ]
     },
     "execution_count": 101,
     "metadata": {},
     "output_type": "execute_result"
    }
   ],
   "source": [
    "dfc"
   ]
  },
  {
   "cell_type": "markdown",
   "metadata": {},
   "source": [
    "# Analisis dan Perhitungan"
   ]
  },
  {
   "cell_type": "markdown",
   "metadata": {},
   "source": [
    "### Apa faktor yg mempengaruhi tingkat rekomendasi pelanggan?"
   ]
  },
  {
   "cell_type": "markdown",
   "metadata": {},
   "source": [
    "Untuk menjawab pertanyaannya kita akan melakukan pengujian Chi-Squared karena kita ingin menguji hubungan antara dua data kategorikal."
   ]
  },
  {
   "cell_type": "markdown",
   "metadata": {},
   "source": [
    "#### Hipotesa"
   ]
  },
  {
   "cell_type": "code",
   "execution_count": 102,
   "metadata": {},
   "outputs": [
    {
     "data": {
      "text/html": [
       "<div>\n",
       "<style scoped>\n",
       "    .dataframe tbody tr th:only-of-type {\n",
       "        vertical-align: middle;\n",
       "    }\n",
       "\n",
       "    .dataframe tbody tr th {\n",
       "        vertical-align: top;\n",
       "    }\n",
       "\n",
       "    .dataframe thead th {\n",
       "        text-align: right;\n",
       "    }\n",
       "</style>\n",
       "<table border=\"1\" class=\"dataframe\">\n",
       "  <thead>\n",
       "    <tr style=\"text-align: right;\">\n",
       "      <th></th>\n",
       "      <th>seat_comfort</th>\n",
       "      <th>cabin_staff_service</th>\n",
       "      <th>ground_service</th>\n",
       "      <th>food_beverages</th>\n",
       "      <th>wifi_connectivity</th>\n",
       "      <th>inflight_entertainment</th>\n",
       "      <th>value_for_money</th>\n",
       "    </tr>\n",
       "  </thead>\n",
       "  <tbody>\n",
       "    <tr>\n",
       "      <th>count</th>\n",
       "      <td>1894.000000</td>\n",
       "      <td>1894.000000</td>\n",
       "      <td>1894.000000</td>\n",
       "      <td>1894.000000</td>\n",
       "      <td>1894.000000</td>\n",
       "      <td>1894.000000</td>\n",
       "      <td>1894.000000</td>\n",
       "    </tr>\n",
       "    <tr>\n",
       "      <th>mean</th>\n",
       "      <td>2.939282</td>\n",
       "      <td>3.383316</td>\n",
       "      <td>3.093981</td>\n",
       "      <td>2.611932</td>\n",
       "      <td>0.387012</td>\n",
       "      <td>1.843717</td>\n",
       "      <td>2.874340</td>\n",
       "    </tr>\n",
       "    <tr>\n",
       "      <th>std</th>\n",
       "      <td>1.367500</td>\n",
       "      <td>1.462999</td>\n",
       "      <td>1.394516</td>\n",
       "      <td>1.539371</td>\n",
       "      <td>1.007977</td>\n",
       "      <td>1.717770</td>\n",
       "      <td>1.414604</td>\n",
       "    </tr>\n",
       "    <tr>\n",
       "      <th>min</th>\n",
       "      <td>0.000000</td>\n",
       "      <td>0.000000</td>\n",
       "      <td>0.000000</td>\n",
       "      <td>0.000000</td>\n",
       "      <td>0.000000</td>\n",
       "      <td>0.000000</td>\n",
       "      <td>1.000000</td>\n",
       "    </tr>\n",
       "    <tr>\n",
       "      <th>25%</th>\n",
       "      <td>2.000000</td>\n",
       "      <td>2.000000</td>\n",
       "      <td>2.000000</td>\n",
       "      <td>1.000000</td>\n",
       "      <td>0.000000</td>\n",
       "      <td>0.000000</td>\n",
       "      <td>2.000000</td>\n",
       "    </tr>\n",
       "    <tr>\n",
       "      <th>50%</th>\n",
       "      <td>3.000000</td>\n",
       "      <td>4.000000</td>\n",
       "      <td>3.000000</td>\n",
       "      <td>3.000000</td>\n",
       "      <td>0.000000</td>\n",
       "      <td>1.000000</td>\n",
       "      <td>3.000000</td>\n",
       "    </tr>\n",
       "    <tr>\n",
       "      <th>75%</th>\n",
       "      <td>4.000000</td>\n",
       "      <td>5.000000</td>\n",
       "      <td>4.000000</td>\n",
       "      <td>4.000000</td>\n",
       "      <td>0.000000</td>\n",
       "      <td>3.000000</td>\n",
       "      <td>4.000000</td>\n",
       "    </tr>\n",
       "    <tr>\n",
       "      <th>max</th>\n",
       "      <td>5.000000</td>\n",
       "      <td>5.000000</td>\n",
       "      <td>5.000000</td>\n",
       "      <td>5.000000</td>\n",
       "      <td>5.000000</td>\n",
       "      <td>5.000000</td>\n",
       "      <td>5.000000</td>\n",
       "    </tr>\n",
       "  </tbody>\n",
       "</table>\n",
       "</div>"
      ],
      "text/plain": [
       "       seat_comfort  cabin_staff_service  ground_service  food_beverages  \\\n",
       "count   1894.000000          1894.000000     1894.000000     1894.000000   \n",
       "mean       2.939282             3.383316        3.093981        2.611932   \n",
       "std        1.367500             1.462999        1.394516        1.539371   \n",
       "min        0.000000             0.000000        0.000000        0.000000   \n",
       "25%        2.000000             2.000000        2.000000        1.000000   \n",
       "50%        3.000000             4.000000        3.000000        3.000000   \n",
       "75%        4.000000             5.000000        4.000000        4.000000   \n",
       "max        5.000000             5.000000        5.000000        5.000000   \n",
       "\n",
       "       wifi_connectivity  inflight_entertainment  value_for_money  \n",
       "count        1894.000000             1894.000000      1894.000000  \n",
       "mean            0.387012                1.843717         2.874340  \n",
       "std             1.007977                1.717770         1.414604  \n",
       "min             0.000000                0.000000         1.000000  \n",
       "25%             0.000000                0.000000         2.000000  \n",
       "50%             0.000000                1.000000         3.000000  \n",
       "75%             0.000000                3.000000         4.000000  \n",
       "max             5.000000                5.000000         5.000000  "
      ]
     },
     "execution_count": 102,
     "metadata": {},
     "output_type": "execute_result"
    }
   ],
   "source": [
    "dfc.describe()"
   ]
  },
  {
   "cell_type": "markdown",
   "metadata": {},
   "source": [
    "Untuk melakukan pengujian, kita perlu mendefinisikan Hipotesa:\n",
    "\n",
    "$H_0$: Sebuah variabel dan 'recommended' bersifat independent.\n",
    "\n",
    "$H_1$: Sebuah variabel dan 'recommended' bersifat dependent.\n",
    "\n",
    "Kita akan menggunakan confidence level 95%"
   ]
  },
  {
   "cell_type": "code",
   "execution_count": 103,
   "metadata": {},
   "outputs": [
    {
     "name": "stdout",
     "output_type": "stream",
     "text": [
      "P-value of aircraft_type and recommended: 0.05547701067094414 \n",
      "P-value of country and recommended: 0.030340168616557604 and they are dependent\n",
      "P-value of type_of_travellers and recommended: 3.0339373836296187e-21 and they are dependent\n",
      "P-value of route and recommended: 0.14927302707888007 \n",
      "P-value of seat_types and recommended: 0.9679081468603922 \n",
      "P-value of seat_comfort and recommended: 7.408449477002427e-178 and they are dependent\n",
      "P-value of cabin_staff_service and recommended: 1.9186659956490716e-168 and they are dependent\n",
      "P-value of ground_service and recommended: 3.477691322137525e-138 and they are dependent\n",
      "P-value of food_beverages and recommended: 1.716964705391723e-188 and they are dependent\n",
      "P-value of wifi_connectivity and recommended: 1.2197314180245192e-27 and they are dependent\n",
      "P-value of inflight_entertainment and recommended: 6.136355321216326e-88 and they are dependent\n",
      "P-value of value_for_money and recommended: 5.26913693913294e-271 and they are dependent\n"
     ]
    }
   ],
   "source": [
    "cols = dfc.drop(columns=['recommended']).columns\n",
    "\n",
    "for col in cols:\n",
    "  cross = pd.crosstab(dfc[col],dfc['recommended'])\n",
    "  pval = stats.chi2_contingency(cross).pvalue\n",
    "  prompt = \"and they are dependent\" if pval<0.05 else \"\"\n",
    "  print(f\"P-value of {col} and recommended: {pval} {prompt}\")"
   ]
  },
  {
   "cell_type": "markdown",
   "metadata": {},
   "source": [
    "* Dari hasil di atas, dapat kita simpulkan faktor-faktor yg mempengaruhi rekomendasi penumpang adalah Negara, Tipe Penumpang, Kenyamanan Seat, Cabin Staff Service, Ground Service, Kualitas Makanan, Koneksi WiFi, Inflight Entertainment dan Value for Money\n",
    "\n",
    "* Namun kita perlu menelusuri lagi lebih jauh detail mana yg membuat penumpang memberikan rekomendasi dari setiap variabel.\n",
    "\n",
    "* Untuk mempermudah perhitungan mari kita ubah kolom `recommended` menjadi angka dengan `yes` sebagai `1` dan `no` sebagai `0` untuk mempermudah penghitungan."
   ]
  },
  {
   "cell_type": "markdown",
   "metadata": {},
   "source": [
    "#### Mengubah Kolom Recomended"
   ]
  },
  {
   "cell_type": "code",
   "execution_count": 104,
   "metadata": {},
   "outputs": [
    {
     "name": "stderr",
     "output_type": "stream",
     "text": [
      "C:\\Users\\reski\\AppData\\Local\\Temp\\ipykernel_16360\\2469958655.py:2: FutureWarning: Downcasting behavior in `replace` is deprecated and will be removed in a future version. To retain the old behavior, explicitly call `result.infer_objects(copy=False)`. To opt-in to the future behavior, set `pd.set_option('future.no_silent_downcasting', True)`\n",
      "  dfc1['recommended'] = dfc['recommended'].replace({'yes':1,'no':0})\n"
     ]
    },
    {
     "data": {
      "text/plain": [
       "5     0\n",
       "8     1\n",
       "12    1\n",
       "13    0\n",
       "15    0\n",
       "Name: recommended, dtype: int64"
      ]
     },
     "execution_count": 104,
     "metadata": {},
     "output_type": "execute_result"
    }
   ],
   "source": [
    "dfc1 = dfc.copy()\n",
    "dfc1['recommended'] = dfc['recommended'].replace({'yes':1,'no':0})\n",
    "dfc1['recommended'].head()"
   ]
  },
  {
   "cell_type": "markdown",
   "metadata": {},
   "source": [
    "Untuk mengetahui cara kerja hubungan antara variabel dan rekomendasi, pertama-tama kita perlu menghitung tingkat rekomendasi dengan mengukur rata-rata `recommended` dengan rata-ratanya adalah tingkat rekomendasi pelanggan "
   ]
  },
  {
   "cell_type": "markdown",
   "metadata": {},
   "source": [
    "##### Negara"
   ]
  },
  {
   "cell_type": "code",
   "execution_count": 105,
   "metadata": {},
   "outputs": [
    {
     "data": {
      "text/html": [
       "<div>\n",
       "<style scoped>\n",
       "    .dataframe tbody tr th:only-of-type {\n",
       "        vertical-align: middle;\n",
       "    }\n",
       "\n",
       "    .dataframe tbody tr th {\n",
       "        vertical-align: top;\n",
       "    }\n",
       "\n",
       "    .dataframe thead th {\n",
       "        text-align: right;\n",
       "    }\n",
       "</style>\n",
       "<table border=\"1\" class=\"dataframe\">\n",
       "  <thead>\n",
       "    <tr style=\"text-align: right;\">\n",
       "      <th></th>\n",
       "      <th>recommended</th>\n",
       "    </tr>\n",
       "    <tr>\n",
       "      <th>country</th>\n",
       "      <th></th>\n",
       "    </tr>\n",
       "  </thead>\n",
       "  <tbody>\n",
       "    <tr>\n",
       "      <th>Argentina</th>\n",
       "      <td>0.333333</td>\n",
       "    </tr>\n",
       "    <tr>\n",
       "      <th>Australia</th>\n",
       "      <td>0.362319</td>\n",
       "    </tr>\n",
       "    <tr>\n",
       "      <th>Austria</th>\n",
       "      <td>0.750000</td>\n",
       "    </tr>\n",
       "    <tr>\n",
       "      <th>Bahrain</th>\n",
       "      <td>0.000000</td>\n",
       "    </tr>\n",
       "    <tr>\n",
       "      <th>Belgium</th>\n",
       "      <td>0.583333</td>\n",
       "    </tr>\n",
       "    <tr>\n",
       "      <th>...</th>\n",
       "      <td>...</td>\n",
       "    </tr>\n",
       "    <tr>\n",
       "      <th>Ukraine</th>\n",
       "      <td>1.000000</td>\n",
       "    </tr>\n",
       "    <tr>\n",
       "      <th>United Arab Emirates</th>\n",
       "      <td>0.428571</td>\n",
       "    </tr>\n",
       "    <tr>\n",
       "      <th>United Kingdom</th>\n",
       "      <td>0.466885</td>\n",
       "    </tr>\n",
       "    <tr>\n",
       "      <th>United States</th>\n",
       "      <td>0.447059</td>\n",
       "    </tr>\n",
       "    <tr>\n",
       "      <th>Vietnam</th>\n",
       "      <td>1.000000</td>\n",
       "    </tr>\n",
       "  </tbody>\n",
       "</table>\n",
       "<p>61 rows × 1 columns</p>\n",
       "</div>"
      ],
      "text/plain": [
       "                      recommended\n",
       "country                          \n",
       "Argentina                0.333333\n",
       "Australia                0.362319\n",
       "Austria                  0.750000\n",
       "Bahrain                  0.000000\n",
       "Belgium                  0.583333\n",
       "...                           ...\n",
       "Ukraine                  1.000000\n",
       "United Arab Emirates     0.428571\n",
       "United Kingdom           0.466885\n",
       "United States            0.447059\n",
       "Vietnam                  1.000000\n",
       "\n",
       "[61 rows x 1 columns]"
      ]
     },
     "execution_count": 105,
     "metadata": {},
     "output_type": "execute_result"
    }
   ],
   "source": [
    "dfc1.groupby('country')[['recommended']].mean()"
   ]
  },
  {
   "cell_type": "markdown",
   "metadata": {},
   "source": [
    "Bisa kita lihat asal negara mempengaruhi tingkat rekomendasi penumpang namun kita butuh melakukan analisa yg lebih spesifik"
   ]
  },
  {
   "cell_type": "markdown",
   "metadata": {},
   "source": [
    "##### Type Penumpang"
   ]
  },
  {
   "cell_type": "code",
   "execution_count": 106,
   "metadata": {},
   "outputs": [
    {
     "data": {
      "text/html": [
       "<div>\n",
       "<style scoped>\n",
       "    .dataframe tbody tr th:only-of-type {\n",
       "        vertical-align: middle;\n",
       "    }\n",
       "\n",
       "    .dataframe tbody tr th {\n",
       "        vertical-align: top;\n",
       "    }\n",
       "\n",
       "    .dataframe thead th {\n",
       "        text-align: right;\n",
       "    }\n",
       "</style>\n",
       "<table border=\"1\" class=\"dataframe\">\n",
       "  <thead>\n",
       "    <tr style=\"text-align: right;\">\n",
       "      <th></th>\n",
       "      <th>recommended</th>\n",
       "    </tr>\n",
       "    <tr>\n",
       "      <th>type_of_travellers</th>\n",
       "      <th></th>\n",
       "    </tr>\n",
       "  </thead>\n",
       "  <tbody>\n",
       "    <tr>\n",
       "      <th>Business</th>\n",
       "      <td>0.282110</td>\n",
       "    </tr>\n",
       "    <tr>\n",
       "      <th>Couple Leisure</th>\n",
       "      <td>0.468892</td>\n",
       "    </tr>\n",
       "    <tr>\n",
       "      <th>Family Leisure</th>\n",
       "      <td>0.491597</td>\n",
       "    </tr>\n",
       "    <tr>\n",
       "      <th>Solo Leisure</th>\n",
       "      <td>0.597148</td>\n",
       "    </tr>\n",
       "  </tbody>\n",
       "</table>\n",
       "</div>"
      ],
      "text/plain": [
       "                    recommended\n",
       "type_of_travellers             \n",
       "Business               0.282110\n",
       "Couple Leisure         0.468892\n",
       "Family Leisure         0.491597\n",
       "Solo Leisure           0.597148"
      ]
     },
     "execution_count": 106,
     "metadata": {},
     "output_type": "execute_result"
    }
   ],
   "source": [
    "dfc1.groupby('type_of_travellers')[['recommended']].mean()"
   ]
  },
  {
   "cell_type": "markdown",
   "metadata": {},
   "source": [
    "Tipe penumpang tidak terlalu mempengaruhi tingkat rekomendasi dikarenakan hasilnya cukup merata"
   ]
  },
  {
   "cell_type": "markdown",
   "metadata": {},
   "source": [
    "Untuk data Rating merupakan ordinal data sehingga untuk mengukur tingkat relasinya kita bisa menggunakan metode Kendall"
   ]
  },
  {
   "cell_type": "markdown",
   "metadata": {},
   "source": [
    "#### Pengujian dari Setiap Rating"
   ]
  },
  {
   "cell_type": "code",
   "execution_count": 107,
   "metadata": {},
   "outputs": [],
   "source": [
    "#Fungi rumus untuk menghitung tingkat korelasi menggunakan metode Kendall\n",
    "def corr(col):\n",
    "  tmp = dfc1.groupby(col)[['recommended']].mean().reset_index()\n",
    "  tau, pval = stats.kendalltau(tmp[col],tmp['recommended'])\n",
    "  print('Kendall Tau:',tau)\n",
    "  print('P-value:',pval)"
   ]
  },
  {
   "cell_type": "markdown",
   "metadata": {},
   "source": [
    "##### Kenyamanan Seat"
   ]
  },
  {
   "cell_type": "code",
   "execution_count": 108,
   "metadata": {},
   "outputs": [
    {
     "name": "stdout",
     "output_type": "stream",
     "text": [
      "Kendall Tau: 0.9999999999999999\n",
      "P-value: 0.002777777777777778\n"
     ]
    }
   ],
   "source": [
    "corr('seat_comfort')"
   ]
  },
  {
   "cell_type": "markdown",
   "metadata": {},
   "source": [
    "##### Cabin Staff Service"
   ]
  },
  {
   "cell_type": "code",
   "execution_count": 109,
   "metadata": {},
   "outputs": [
    {
     "name": "stdout",
     "output_type": "stream",
     "text": [
      "Kendall Tau: 0.9999999999999999\n",
      "P-value: 0.002777777777777778\n"
     ]
    }
   ],
   "source": [
    "corr('cabin_staff_service')"
   ]
  },
  {
   "cell_type": "markdown",
   "metadata": {},
   "source": [
    "##### Ground Service"
   ]
  },
  {
   "cell_type": "code",
   "execution_count": 110,
   "metadata": {},
   "outputs": [
    {
     "name": "stdout",
     "output_type": "stream",
     "text": [
      "Kendall Tau: 0.6\n",
      "P-value: 0.1361111111111111\n"
     ]
    }
   ],
   "source": [
    "corr('ground_service')"
   ]
  },
  {
   "cell_type": "markdown",
   "metadata": {},
   "source": [
    "##### Kualitas Makanan"
   ]
  },
  {
   "cell_type": "code",
   "execution_count": 111,
   "metadata": {},
   "outputs": [
    {
     "name": "stdout",
     "output_type": "stream",
     "text": [
      "Kendall Tau: 0.7333333333333333\n",
      "P-value: 0.05555555555555555\n"
     ]
    }
   ],
   "source": [
    "corr('food_beverages')"
   ]
  },
  {
   "cell_type": "markdown",
   "metadata": {},
   "source": [
    "##### Koneksi WiFi"
   ]
  },
  {
   "cell_type": "code",
   "execution_count": 112,
   "metadata": {},
   "outputs": [
    {
     "name": "stdout",
     "output_type": "stream",
     "text": [
      "Kendall Tau: 0.6\n",
      "P-value: 0.1361111111111111\n"
     ]
    }
   ],
   "source": [
    "corr('wifi_connectivity')"
   ]
  },
  {
   "cell_type": "markdown",
   "metadata": {},
   "source": [
    "##### InFlight Entertainment"
   ]
  },
  {
   "cell_type": "code",
   "execution_count": 113,
   "metadata": {},
   "outputs": [
    {
     "name": "stdout",
     "output_type": "stream",
     "text": [
      "Kendall Tau: 0.6\n",
      "P-value: 0.1361111111111111\n"
     ]
    }
   ],
   "source": [
    "corr('inflight_entertainment')"
   ]
  },
  {
   "cell_type": "markdown",
   "metadata": {},
   "source": [
    "##### Value for Money"
   ]
  },
  {
   "cell_type": "code",
   "execution_count": 114,
   "metadata": {},
   "outputs": [
    {
     "name": "stdout",
     "output_type": "stream",
     "text": [
      "Kendall Tau: 0.9999999999999999\n",
      "P-value: 0.016666666666666666\n"
     ]
    }
   ],
   "source": [
    "corr('value_for_money')"
   ]
  },
  {
   "cell_type": "markdown",
   "metadata": {},
   "source": [
    "#### Hasil Dari Pengujian"
   ]
  },
  {
   "cell_type": "markdown",
   "metadata": {},
   "source": [
    "Dari data diatas, kita tahu kalau Kenyamanan Seat, Cabin Staff Service dan Value for Money mempengaruhi tingkat rekomendasi. Dan karena penumpang puas, mereka akan bersedia merekomendasikan maskapai penerbangan kita.\n",
    "\n",
    "Sementara Ground Service, Kualitas Makanan, Koneksi WiFi dan InFlight Entertainment memiliki p-value yg lebih besar dari 0.05 sehingga sebagian besar korelasi terjadi bukan secara kebetulan dan memerlukan banyak data untuk membuktikannya. Selain itu kita masih bisa melanjutkan analisa dan mengambil kesimpulan"
   ]
  },
  {
   "cell_type": "markdown",
   "metadata": {},
   "source": [
    "#### Menghitung Total dari Rekomendasi dan Tidak Rekomendasi Penumpang"
   ]
  },
  {
   "cell_type": "code",
   "execution_count": 115,
   "metadata": {},
   "outputs": [],
   "source": [
    "rec = dfc[dfc['recommended']=='yes']"
   ]
  },
  {
   "cell_type": "code",
   "execution_count": 116,
   "metadata": {},
   "outputs": [],
   "source": [
    "no = dfc[dfc['recommended']=='no']"
   ]
  },
  {
   "cell_type": "markdown",
   "metadata": {},
   "source": [
    "##### Total Penumpang"
   ]
  },
  {
   "cell_type": "code",
   "execution_count": 117,
   "metadata": {},
   "outputs": [
    {
     "name": "stdout",
     "output_type": "stream",
     "text": [
      "Total Jumlah Penumpang yang Merekomendasikan: 884\n",
      "Total Jumlah Penumpang yang Tidak Merekomendasikan: 1010\n"
     ]
    }
   ],
   "source": [
    "print(\"Total Jumlah Penumpang yang Merekomendasikan:\", len(rec))\n",
    "print(\"Total Jumlah Penumpang yang Tidak Merekomendasikan:\", len(no))"
   ]
  },
  {
   "cell_type": "markdown",
   "metadata": {},
   "source": [
    "* Total penumpang yg bersedia merekomendasikan berjumlah 884 orang dari total seluruh penumpang\n",
    "* Total penumpang yg tidak merekomendasikan berjumlah 1010 dari total seluruh penumpang"
   ]
  },
  {
   "cell_type": "markdown",
   "metadata": {},
   "source": [
    "##### Total Jenis Tipe Penumpang yg Tidak Merekomendasikan"
   ]
  },
  {
   "cell_type": "code",
   "execution_count": 118,
   "metadata": {},
   "outputs": [
    {
     "data": {
      "text/plain": [
       "type_of_travellers\n",
       "Couple Leisure    350\n",
       "Business          313\n",
       "Solo Leisure      226\n",
       "Family Leisure    121\n",
       "Name: count, dtype: int64"
      ]
     },
     "execution_count": 118,
     "metadata": {},
     "output_type": "execute_result"
    }
   ],
   "source": [
    "no['type_of_travellers'].value_counts()"
   ]
  },
  {
   "cell_type": "markdown",
   "metadata": {},
   "source": [
    "Total Jumlah Penumpang yg tidak memberikan rekomendasi berdasarkan tipe penumpang:\n",
    "* Couple Leisure 350\n",
    "* Solo Leisure 313\n",
    "* Business 226\n",
    "* Family Leisure 121"
   ]
  },
  {
   "cell_type": "markdown",
   "metadata": {},
   "source": [
    "##### Total Type Seat"
   ]
  },
  {
   "cell_type": "code",
   "execution_count": 119,
   "metadata": {},
   "outputs": [
    {
     "data": {
      "text/plain": [
       "seat_types\n",
       "Economy Class      459\n",
       "Business Class     372\n",
       "Premium Economy    100\n",
       "First Class         79\n",
       "Name: count, dtype: int64"
      ]
     },
     "execution_count": 119,
     "metadata": {},
     "output_type": "execute_result"
    }
   ],
   "source": [
    "no['seat_types'].value_counts()"
   ]
  },
  {
   "cell_type": "markdown",
   "metadata": {},
   "source": [
    "Total Jumlah Penumpang yg tidak memberikan rekomendasi berdasarkan tipe penumpang:\n",
    "* Economy Class 459\n",
    "* Solo Leisure 372\n",
    "* Premium Economy 100\n",
    "* First Class 79"
   ]
  },
  {
   "cell_type": "markdown",
   "metadata": {},
   "source": [
    "# Data Visualisation"
   ]
  },
  {
   "cell_type": "markdown",
   "metadata": {},
   "source": [
    "## Kenyamanan Seat"
   ]
  },
  {
   "cell_type": "code",
   "execution_count": 120,
   "metadata": {},
   "outputs": [
    {
     "data": {
      "image/png": "[encoded data removed]",
      "text/plain": [
       "<Figure size 1000x600 with 1 Axes>"
      ]
     },
     "metadata": {},
     "output_type": "display_data"
    }
   ],
   "source": [
    "fig, ax = plt.subplots(figsize=(10,6))\n",
    "\n",
    "# Menggunakan sns.countplot() untuk membuat plot\n",
    "sns.countplot(data=dfc, x='seat_comfort', hue='recommended', ax=ax)\n",
    "\n",
    "# Menambahkan label pada bar\n",
    "for container in ax.containers:\n",
    "    ax.bar_label(container, fmt='%.0f', fontsize=10, padding=3)\n",
    "\n",
    "# Menambahkan legenda dengan label yang diinginkan saja\n",
    "ax.legend(labels=['Not Recommended', 'Recommended'], loc='best')\n",
    "\n",
    "# Menyesuaikan label sumbu x\n",
    "ax.set_xlabel(\"Kenyamanan Seat\", fontsize=12)\n",
    "\n",
    "# Menyesuaikan judul plot\n",
    "ax.set_title(\"Tingkat Rekomendasi Berdasarkan Kenyamanan Seat\", fontsize=15)\n",
    "\n",
    "# Menampilkan plot\n",
    "plt.show()"
   ]
  },
  {
   "cell_type": "markdown",
   "metadata": {},
   "source": [
    "## Service Cabin Staff"
   ]
  },
  {
   "cell_type": "code",
   "execution_count": 121,
   "metadata": {},
   "outputs": [
    {
     "data": {
      "image/png": "[encoded data removed]",
      "text/plain": [
       "<Figure size 1000x600 with 1 Axes>"
      ]
     },
     "metadata": {},
     "output_type": "display_data"
    }
   ],
   "source": [
    "fig, ax = plt.subplots(figsize=(10,6))\n",
    "\n",
    "# Menggunakan sns.countplot() untuk membuat plot\n",
    "sns.countplot(data=dfc, x='cabin_staff_service', hue='recommended', ax=ax)\n",
    "\n",
    "# Menambahkan label pada bar\n",
    "for container in ax.containers:\n",
    "    ax.bar_label(container, fmt='%.0f', fontsize=10, padding=3)\n",
    "\n",
    "# Menambahkan legenda dengan label yang diinginkan saja\n",
    "ax.legend(labels=['Not Recommended', 'Recommended'], loc='best')\n",
    "\n",
    "# Menyesuaikan label sumbu x\n",
    "ax.set_xlabel(\"Cabin Staff Service\", fontsize=12)\n",
    "\n",
    "# Menyesuaikan judul plot\n",
    "ax.set_title(\"Tingkat Rekomendasi Berdasarkan Service Cabin Staff\", fontsize=15)\n",
    "\n",
    "# Menampilkan plot\n",
    "plt.show()"
   ]
  },
  {
   "cell_type": "markdown",
   "metadata": {},
   "source": [
    "## Value for Money"
   ]
  },
  {
   "cell_type": "code",
   "execution_count": 122,
   "metadata": {},
   "outputs": [
    {
     "data": {
      "image/png": "[encoded data removed]",
      "text/plain": [
       "<Figure size 1000x600 with 1 Axes>"
      ]
     },
     "metadata": {},
     "output_type": "display_data"
    }
   ],
   "source": [
    "fig, ax = plt.subplots(figsize=(10,6))\n",
    "\n",
    "# Menggunakan sns.countplot() untuk membuat plot\n",
    "sns.countplot(data=dfc, x='value_for_money', hue='recommended', ax=ax)\n",
    "\n",
    "# Menambahkan label pada bar\n",
    "for container in ax.containers:\n",
    "    ax.bar_label(container, fmt='%.0f', fontsize=10, padding=3)\n",
    "\n",
    "# Menambahkan legenda dengan label yang diinginkan saja\n",
    "ax.legend(labels=['Not Recommended', 'Recommended'], loc='best')\n",
    "\n",
    "# Menyesuaikan label sumbu x\n",
    "ax.set_xlabel(\"Value for Money\", fontsize=12)\n",
    "\n",
    "# Menyesuaikan judul plot\n",
    "ax.set_title(\"Tingkat Rekomendasi Berdasarkan Value for Money\", fontsize=15)\n",
    "\n",
    "# Menampilkan plot\n",
    "plt.show()"
   ]
  },
  {
   "cell_type": "markdown",
   "metadata": {},
   "source": [
    "## Jumlah Rekomendasi Penumpang"
   ]
  },
  {
   "cell_type": "code",
   "execution_count": 123,
   "metadata": {},
   "outputs": [
    {
     "data": {
      "image/png": "[encoded data removed]",
      "text/plain": [
       "<Figure size 500x500 with 1 Axes>"
      ]
     },
     "metadata": {},
     "output_type": "display_data"
    }
   ],
   "source": [
    "fig,ax1 = plt.subplots(figsize=(5,5))\n",
    "\n",
    "dfc['recommended'].value_counts().plot(kind='pie', autopct='%.2f%%',ax=ax1, labels = None)\n",
    "ax1.legend(labels=['Not Recommended', 'Recommended'], loc='best')\n",
    "ax1.set_ylabel('')\n",
    "ax1.set_title('Jumlah Rekomendasi Penumpang')\n",
    "plt.show()"
   ]
  },
  {
   "cell_type": "markdown",
   "metadata": {},
   "source": [
    "## Total Penumpang Berdasarkan Tipe"
   ]
  },
  {
   "cell_type": "code",
   "execution_count": 124,
   "metadata": {},
   "outputs": [
    {
     "data": {
      "image/png": "[encoded data removed]",
      "text/plain": [
       "<Figure size 800x800 with 1 Axes>"
      ]
     },
     "metadata": {},
     "output_type": "display_data"
    }
   ],
   "source": [
    "fig,ax1 = plt.subplots(figsize=(8,8))\n",
    "\n",
    "dfc['type_of_travellers'].value_counts().plot(kind='pie', autopct='%.2f%%', ax=ax1, labels = None)\n",
    "ax1.set_ylabel('')\n",
    "ax1.legend(labels=dfc['type_of_travellers'].unique(), loc='best')\n",
    "ax1.set_title('Jumlah Berdasarkan Tipe Penumpang')\n",
    "plt.show()"
   ]
  },
  {
   "cell_type": "markdown",
   "metadata": {},
   "source": [
    "## Total Penumpang Berdasarkan Tipe Kursi"
   ]
  },
  {
   "cell_type": "code",
   "execution_count": 125,
   "metadata": {},
   "outputs": [
    {
     "data": {
      "image/png": "[encoded data removed]",
      "text/plain": [
       "<Figure size 800x800 with 1 Axes>"
      ]
     },
     "metadata": {},
     "output_type": "display_data"
    }
   ],
   "source": [
    "fig,ax1 = plt.subplots(figsize=(8,8))\n",
    "\n",
    "dfc['seat_types'].value_counts().plot(kind='pie', autopct='%.2f%%', ax=ax1, labels = None)\n",
    "ax1.set_ylabel('')\n",
    "ax1.legend(labels=dfc['seat_types'].unique(), loc='best')\n",
    "ax1.set_title('Jumlah berdasarkan dari Tipe Kursi Penumpang')\n",
    "plt.show()"
   ]
  },
  {
   "cell_type": "markdown",
   "metadata": {},
   "source": [
    "# Pengambilan Kesimpulan"
   ]
  },
  {
   "cell_type": "markdown",
   "metadata": {},
   "source": [
    "Bisa disimpulkan kalau saat ini Kenyamanan Seat, Service Cabin Staff, dan Value for Money sangat berpengaruh dalam tingkat rekomendasi penumpang. Jadi kita bisa meningkatkan ketiga aspek tersebut terutama kepada penumpang Economy Class dan Penumpang Couple maupun Solo sebab mereka adalah penumpang terbanyak agar tingkat rekomendasi penumpang bisa bertambah sebanyak 10% sehingga pada akhirnya perusahaan bisa meningkatkan pendapatan pada kuartal berikutnya."
   ]
  },
  {
   "cell_type": "markdown",
   "metadata": {},
   "source": [
    "# Saran"
   ]
  },
  {
   "cell_type": "markdown",
   "metadata": {},
   "source": [
    "* Untuk Kenyamanan Seat bisa dilakukan dengan maintenance seat secara berkala dan melakukan pembersihan sebelum penerbangan agar bisa meningkatkan kualitas kenyamanan kepada penumpang.\n",
    "* Untuk Service Cabin Staff bisa ditingkatkan dengan memberikan pelatihan khusus dan intensif kepada para Cabin Staff yg masih aktif\n",
    "* Untuk Value for Money mungkin bisa dipertimbangkan dengan menghitung kembali harga tiket pesawat sesuai dengan fasilitas yg perusahaan berikan"
   ]
  },
  {
   "cell_type": "code",
   "execution_count": 126,
   "metadata": {},
   "outputs": [],
   "source": [
    "dfc.to_csv('airlines_cleaned.csv', index=False)"
   ]
  }
 ],
 "metadata": {
  "kernelspec": {
   "display_name": "base",
   "language": "python",
   "name": "python3"
  },
  "language_info": {
   "codemirror_mode": {
    "name": "ipython",
    "version": 3
   },
   "file_extension": ".py",
   "mimetype": "text/x-python",
   "name": "python",
   "nbconvert_exporter": "python",
   "pygments_lexer": "ipython3",
   "version": "3.9.18"
  }
 },
 "nbformat": 4,
 "nbformat_minor": 2
}
